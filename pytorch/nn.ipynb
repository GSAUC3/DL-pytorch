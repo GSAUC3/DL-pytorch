{
 "cells": [
  {
   "cell_type": "code",
   "execution_count": null,
   "metadata": {},
   "outputs": [],
   "source": [
    "import torch \n",
    "from torch import nn\n",
    "from torch.utils.data import DataLoader,Dataset\n",
    "from matplotlib import pyplot as plt,rc\n",
    "%matplotlib inline \n",
    "from matplotlib.animation import FuncAnimation as animate \n",
    "rc('animation',html='html5')\n"
   ]
  }
 ],
 "metadata": {
  "language_info": {
   "name": "python"
  },
  "orig_nbformat": 4
 },
 "nbformat": 4,
 "nbformat_minor": 2
}
