{
 "cells": [
  {
   "cell_type": "code",
   "execution_count": 1,
   "metadata": {},
   "outputs": [],
   "source": [
    "import numpy as np\n",
    "from matplotlib import pyplot as plt \n",
    "%matplotlib inline\n",
    "from PIL import Image\n",
    "import os \n",
    "from tqdm.notebook import tqdm"
   ]
  },
  {
   "cell_type": "code",
   "execution_count": 2,
   "metadata": {},
   "outputs": [
    {
     "data": {
      "application/vnd.jupyter.widget-view+json": {
       "model_id": "13b7944b24874a48bac93debab87d582",
       "version_major": 2,
       "version_minor": 0
      },
      "text/plain": [
       "  0%|          | 0/5911 [00:00<?, ?it/s]"
      ]
     },
     "metadata": {},
     "output_type": "display_data"
    },
    {
     "data": {
      "application/vnd.jupyter.widget-view+json": {
       "model_id": "19b2980e801e4c22a90c4f82d677a2b7",
       "version_major": 2,
       "version_minor": 0
      },
      "text/plain": [
       "  0%|          | 0/6730 [00:00<?, ?it/s]"
      ]
     },
     "metadata": {},
     "output_type": "display_data"
    },
    {
     "data": {
      "text/plain": [
       "12641"
      ]
     },
     "execution_count": 2,
     "metadata": {},
     "output_type": "execute_result"
    }
   ],
   "source": [
    "dataset = []\n",
    "classes = os.listdir('mnist')\n",
    "for Class in classes:\n",
    "    for image in tqdm(os.listdir(f'mnist/{Class}/')):\n",
    "        dataset.append(f'mnist/{Class}/{image}')\n",
    "\n",
    "len(dataset)"
   ]
  },
  {
   "cell_type": "code",
   "execution_count": 3,
   "metadata": {},
   "outputs": [
    {
     "data": {
      "application/vnd.jupyter.widget-view+json": {
       "model_id": "a58e683f88dd4a8db60222506e3df53f",
       "version_major": 2,
       "version_minor": 0
      },
      "text/plain": [
       "  0%|          | 0/12641 [00:00<?, ?it/s]"
      ]
     },
     "metadata": {},
     "output_type": "display_data"
    },
    {
     "data": {
      "text/plain": [
       "12641"
      ]
     },
     "execution_count": 3,
     "metadata": {},
     "output_type": "execute_result"
    }
   ],
   "source": [
    "trainloader = []\n",
    "for i in tqdm(dataset):\n",
    "    image = Image.open(i)\n",
    "    imgarr = np.asarray(image)\n",
    "    x = np.sum(imgarr)/784\n",
    "    y = np.sum(imgarr-imgarr.T)/784\n",
    "    label = int(i.split('/')[1])\n",
    "    trainloader.append([x,y,label])\n",
    "len(trainloader)"
   ]
  },
  {
   "cell_type": "code",
   "execution_count": 4,
   "metadata": {},
   "outputs": [
    {
     "data": {
      "text/plain": [
       "<matplotlib.legend.Legend at 0x29255c97910>"
      ]
     },
     "execution_count": 4,
     "metadata": {},
     "output_type": "execute_result"
    },
    {
     "data": {
      "image/png": "[encoded data removed]",
      "text/plain": [
       "<Figure size 432x288 with 1 Axes>"
      ]
     },
     "metadata": {
      "needs_background": "light"
     },
     "output_type": "display_data"
    }
   ],
   "source": [
    "f10 = [i[0] for i in trainloader[:5911]] #feature 1 (x) for 0\n",
    "f20 = [i[1] for i in trainloader[:5911]] #feature 2 (y) for 0\n",
    "f11 = [i[0] for i in trainloader[5911:]] #feature 1 (x) for 1\n",
    "f21 = [i[1] for i in trainloader[5911:]] #feature 2 (y) for 1\n",
    "\n",
    "plt.scatter(f10,f20,label='0')\n",
    "plt.scatter(f11,f21,label='1')\n",
    "plt.legend()"
   ]
  },
  {
   "cell_type": "code",
   "execution_count": 5,
   "metadata": {},
   "outputs": [],
   "source": [
    "hypothesis = lambda x,y,a,b,c: 1/(1+np.exp(-(a*x+b*y+c)))\n",
    "\n",
    "def BCELoss(label,pred):\n",
    "    return -label*np.log(pred) -(1-label)*np.log(1-pred)\n",
    "\n",
    "def gradients(x,y,pred,label):\n",
    "    dc = (pred-label)\n",
    "    da = dc*x\n",
    "    db = dc*y\n",
    "    return da,db,dc\n",
    "\n",
    "def training(epochs,lr=0.01):\n",
    "    a,b,c = 2,5,6\n",
    "\n",
    "    for e in range(epochs):\n",
    "        for data in trainloader:\n",
    "            x,y,label=data\n",
    "            yhat = hypothesis(x,y,a,b,c)\n",
    "            l = BCELoss(label,yhat)\n",
    "            da,db,dc=gradients(x,y,yhat,label)\n",
    "            \n",
    "            a-= lr*da\n",
    "            b-= lr*db\n",
    "            c-= lr*dc\n",
    "            \n",
    "            if (e+1)%200==0:\n",
    "                plt.figure()\n",
    "                y0 = -(a/b)*min(f11) -c/b\n",
    "                y1 = -(a/b)*max(f10) -c/b\n",
    "                plt.scatter(f10,f20,label='0')\n",
    "                plt.scatter(f11,f21,label='1')\n",
    "                plt.legend()\n",
    "                plt.plot([min(f11),max(f10)],[y0,y1])\n",
    "                plt.title(\"a {:.4}   b {:.4}   c {:.4}\".format(a,b,c))\n",
    "            \n"
   ]
  },
  {
   "cell_type": "code",
   "execution_count": 6,
   "metadata": {},
   "outputs": [
    {
     "name": "stderr",
     "output_type": "stream",
     "text": [
      "C:\\Users\\Samba\\AppData\\Local\\Temp\\ipykernel_17080\\1630394827.py:4: RuntimeWarning: divide by zero encountered in log\n",
      "  return -label*np.log(pred) -(1-label)*np.log(1-pred)\n",
      "C:\\Users\\Samba\\AppData\\Local\\Temp\\ipykernel_17080\\1630394827.py:4: RuntimeWarning: invalid value encountered in double_scalars\n",
      "  return -label*np.log(pred) -(1-label)*np.log(1-pred)\n"
     ]
    }
   ],
   "source": [
    "training(1)"
   ]
  }
 ],
 "metadata": {
  "kernelspec": {
   "display_name": "Python 3.9.5 64-bit",
   "language": "python",
   "name": "python3"
  },
  "language_info": {
   "codemirror_mode": {
    "name": "ipython",
    "version": 3
   },
   "file_extension": ".py",
   "mimetype": "text/x-python",
   "name": "python",
   "nbconvert_exporter": "python",
   "pygments_lexer": "ipython3",
   "version": "3.9.5"
  },
  "orig_nbformat": 4,
  "vscode": {
   "interpreter": {
    "hash": "1c74d99681ad1a2c591eba718ee02a1ecc6e61532130e8f76172a42e8769d33f"
   }
  }
 },
 "nbformat": 4,
 "nbformat_minor": 2
}
