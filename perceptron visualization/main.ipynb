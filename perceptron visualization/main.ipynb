{
 "cells": [
  {
   "cell_type": "code",
   "execution_count": 1,
   "metadata": {},
   "outputs": [],
   "source": [
    "import torch,os\n",
    "from torch import nn \n",
    "from matplotlib import pyplot as plt \n",
    "%matplotlib inline\n",
    "from torchvision import transforms\n",
    "from torchvision.datasets import ImageFolder\n",
    "from torch.utils.data import Dataset\n",
    "from PIL import Image as im \n",
    "from tqdm.notebook import tqdm\n",
    "import numpy as np "
   ]
  },
  {
   "cell_type": "code",
   "execution_count": 2,
   "metadata": {},
   "outputs": [
    {
     "data": {
      "application/vnd.jupyter.widget-view+json": {
       "model_id": "d186c31cbf6444e6ad37fc05c57e1f29",
       "version_major": 2,
       "version_minor": 0
      },
      "text/plain": [
       "  0%|          | 0/12 [00:00<?, ?it/s]"
      ]
     },
     "metadata": {},
     "output_type": "display_data"
    },
    {
     "data": {
      "application/vnd.jupyter.widget-view+json": {
       "model_id": "c9079a12c80044288fd75584859dd672",
       "version_major": 2,
       "version_minor": 0
      },
      "text/plain": [
       "  0%|          | 0/12 [00:00<?, ?it/s]"
      ]
     },
     "metadata": {},
     "output_type": "display_data"
    },
    {
     "data": {
      "text/plain": [
       "['0/0 (1).png',\n",
       " '0/0 (10).png',\n",
       " '0/0 (11).png',\n",
       " '0/0 (12).png',\n",
       " '0/0 (2).png',\n",
       " '0/0 (3).png',\n",
       " '0/0 (4).png',\n",
       " '0/0 (5).png',\n",
       " '0/0 (6).png',\n",
       " '0/0 (7).png',\n",
       " '0/0 (8).png',\n",
       " '0/0 (9).png',\n",
       " '1/14.png',\n",
       " '1/23.png',\n",
       " '1/24.png',\n",
       " '1/3.png',\n",
       " '1/40.png',\n",
       " '1/59.png',\n",
       " '1/6.png',\n",
       " '1/67.png',\n",
       " '1/70.png',\n",
       " '1/72.png',\n",
       " '1/77.png',\n",
       " '1/8.png']"
      ]
     },
     "execution_count": 2,
     "metadata": {},
     "output_type": "execute_result"
    }
   ],
   "source": [
    "imgname=[]\n",
    "classes=os.listdir('dataset')\n",
    "\n",
    "for Class in classes:\n",
    "    for image in tqdm(os.listdir(f'dataset/{Class}/')):\n",
    "        imgname.append(f'{Class}/{image}')\n",
    "imgname"
   ]
  },
  {
   "cell_type": "code",
   "execution_count": 3,
   "metadata": {},
   "outputs": [],
   "source": [
    "class dset(Dataset):\n",
    "    def __init__(self,names=imgname):\n",
    "        self.names = names\n",
    "        self.transform = transforms.Compose([transforms.PILToTensor()])\n",
    "        \n",
    "    def __len__(self):\n",
    "        return len(self.names)\n",
    "\n",
    "    def __getitem__(self, index):\n",
    "        image = im.open(f'dataset/{imgname[index]}')\n",
    "        label = int(imgname[index].split('/')[0])\n",
    "\n",
    "        tensor = self.transform(image)\n",
    "        tensor = tensor.squeeze()\n",
    "        feature1 = torch.sum(tensor)/784\n",
    "        feature2 = torch.sum(tensor-tensor.T)/784\n",
    "        x = torch.tensor([feature1,feature2])#feature vec\n",
    "\n",
    "        return x,torch.tensor([label])\n",
    "      "
   ]
  },
  {
   "cell_type": "code",
   "execution_count": 4,
   "metadata": {},
   "outputs": [
    {
     "data": {
      "text/plain": [
       "24"
      ]
     },
     "execution_count": 4,
     "metadata": {},
     "output_type": "execute_result"
    }
   ],
   "source": [
    "data = dset(imgname)\n",
    "len(data)"
   ]
  },
  {
   "cell_type": "code",
   "execution_count": 5,
   "metadata": {},
   "outputs": [
    {
     "data": {
      "text/plain": [
       "<matplotlib.legend.Legend at 0x1f0aab0e910>"
      ]
     },
     "execution_count": 5,
     "metadata": {},
     "output_type": "execute_result"
    },
    {
     "data": {
      "image/png": "[encoded data removed]",
      "text/plain": [
       "<Figure size 432x288 with 1 Axes>"
      ]
     },
     "metadata": {
      "needs_background": "light"
     },
     "output_type": "display_data"
    }
   ],
   "source": [
    "f1_0 = []\n",
    "f2_0 = []\n",
    "f1_1=[]\n",
    "f2_1=[]\n",
    "for i in range(len(data)):\n",
    "    x,y = data[i]\n",
    "    if y.item()==0:\n",
    "        f1_0.append(x[0].detach().item())\n",
    "        f2_0.append(x[1].detach().item())\n",
    "    else:\n",
    "        f1_1.append(x[0].detach().item())\n",
    "        f2_1.append(x[1].detach().item())\n",
    "    \n",
    "    # print(x,y)\n",
    "plt.scatter(f1_0,f2_0,label='0')\n",
    "plt.scatter(f1_1,f2_1,label='1')\n",
    "plt.legend()"
   ]
  },
  {
   "cell_type": "code",
   "execution_count": 6,
   "metadata": {},
   "outputs": [],
   "source": [
    "class perceptron(nn.Module):\n",
    "    def __init__(self) -> None:\n",
    "        super(perceptron,self).__init__()\n",
    "        self.linear = nn.Linear(2,1)\n",
    "    \n",
    "    def forward(self,x):\n",
    "        return torch.sigmoid(self.linear(x))"
   ]
  },
  {
   "cell_type": "code",
   "execution_count": 7,
   "metadata": {},
   "outputs": [],
   "source": [
    "model = perceptron()\n",
    "loss = nn.MSELoss() # (x1-x2)^2\n",
    "optimizer = torch.optim.SGD(model.parameters(),lr=0.01)"
   ]
  },
  {
   "cell_type": "code",
   "execution_count": 8,
   "metadata": {},
   "outputs": [],
   "source": [
    "def trian(Epochs):\n",
    "    losses=[]\n",
    "    for e in range(Epochs):\n",
    "        tloss = 0\n",
    "        for i in range(len(data)):\n",
    "            x,y = data[i]\n",
    "            # print(x.shape,y.shape)\n",
    "            yhat = model(x)\n",
    "            loss_ = loss(y.float(),yhat.float())\n",
    "            loss_.backward()\n",
    "            optimizer.step()\n",
    "            tloss+=loss_ \n",
    "            optimizer.zero_grad()\n",
    "        if e%10 == 0:\n",
    "            print(f'Epoch {e+1} {tloss}')\n",
    "        losses.append(tloss.item())\n",
    "    return losses\n",
    "    \n"
   ]
  },
  {
   "cell_type": "code",
   "execution_count": 9,
   "metadata": {},
   "outputs": [
    {
     "data": {
      "text/plain": [
       "(Parameter containing:\n",
       " tensor([[-0.3585, -0.0390]], requires_grad=True),\n",
       " Parameter containing:\n",
       " tensor([0.2415], requires_grad=True))"
      ]
     },
     "execution_count": 9,
     "metadata": {},
     "output_type": "execute_result"
    }
   ],
   "source": [
    "w,b = model.parameters()\n",
    "w,b"
   ]
  },
  {
   "cell_type": "code",
   "execution_count": 10,
   "metadata": {},
   "outputs": [
    {
     "data": {
      "text/plain": [
       "<matplotlib.legend.Legend at 0x1f0acba7550>"
      ]
     },
     "execution_count": 10,
     "metadata": {},
     "output_type": "execute_result"
    },
    {
     "data": {
      "image/png": "[encoded data removed]",
      "text/plain": [
       "<Figure size 720x576 with 1 Axes>"
      ]
     },
     "metadata": {
      "needs_background": "light"
     },
     "output_type": "display_data"
    }
   ],
   "source": [
    "w=w.squeeze()\n",
    "w1 = [w[0].detach().item(),w[1].detach().item()]\n",
    "b1 = b.detach().item()\n",
    "\n",
    "fig = plt.figure(figsize=(10, 8))\n",
    "\n",
    "x = [10,max(f1_0)]\n",
    "y1 = -(w1[0]*x[0]/w1[1])-(b1/w1[1])\n",
    "\n",
    "y2 = -(w1[0]*x[1]/w1[1])-(b1/w1[1])\n",
    "plt.scatter(f1_0,f2_0,label='0')\n",
    "plt.scatter(f1_1,f2_1,label='1')\n",
    "plt.plot(x,[y1,y2])\n",
    "plt.legend()"
   ]
  },
  {
   "cell_type": "code",
   "execution_count": 11,
   "metadata": {},
   "outputs": [
    {
     "name": "stdout",
     "output_type": "stream",
     "text": [
      "Epoch 1 11.970381736755371\n",
      "Epoch 11 1.31247878074646\n",
      "Epoch 21 1.1251760721206665\n",
      "Epoch 31 1.1947810649871826\n",
      "Epoch 41 1.2802278995513916\n",
      "Epoch 51 0.8045961856842041\n",
      "Epoch 61 1.4603948593139648\n",
      "Epoch 71 0.08227154612541199\n",
      "Epoch 81 0.2858419418334961\n",
      "Epoch 91 0.40016135573387146\n",
      "Epoch 101 0.08574486523866653\n",
      "Epoch 111 0.07353123277425766\n",
      "Epoch 121 0.06548050791025162\n",
      "Epoch 131 0.05947599932551384\n",
      "Epoch 141 0.05474100261926651\n",
      "Epoch 151 0.050867561250925064\n",
      "Epoch 161 0.047616634517908096\n",
      "Epoch 171 0.044833701103925705\n",
      "Epoch 181 0.04241558164358139\n",
      "Epoch 191 0.04028797894716263\n"
     ]
    }
   ],
   "source": [
    "EPOCHS=200\n",
    "l = trian(EPOCHS)"
   ]
  },
  {
   "cell_type": "code",
   "execution_count": 12,
   "metadata": {},
   "outputs": [
    {
     "data": {
      "text/plain": [
       "[<matplotlib.lines.Line2D at 0x1f0acc51a60>]"
      ]
     },
     "execution_count": 12,
     "metadata": {},
     "output_type": "execute_result"
    },
    {
     "data": {
      "image/png": "[encoded data removed]",
      "text/plain": [
       "<Figure size 432x288 with 1 Axes>"
      ]
     },
     "metadata": {
      "needs_background": "light"
     },
     "output_type": "display_data"
    }
   ],
   "source": [
    "plt.plot(range(EPOCHS),l)"
   ]
  },
  {
   "cell_type": "code",
   "execution_count": 13,
   "metadata": {},
   "outputs": [
    {
     "data": {
      "text/plain": [
       "(Parameter containing:\n",
       " tensor([[-0.9593,  1.0054]], requires_grad=True),\n",
       " Parameter containing:\n",
       " tensor([0.4501], requires_grad=True))"
      ]
     },
     "execution_count": 13,
     "metadata": {},
     "output_type": "execute_result"
    }
   ],
   "source": [
    "w,b=model.parameters()\n",
    "w,b"
   ]
  },
  {
   "cell_type": "code",
   "execution_count": 14,
   "metadata": {},
   "outputs": [
    {
     "data": {
      "text/plain": [
       "<matplotlib.legend.Legend at 0x1f0acc94610>"
      ]
     },
     "execution_count": 14,
     "metadata": {},
     "output_type": "execute_result"
    },
    {
     "data": {
      "image/png": "[encoded data removed]",
      "text/plain": [
       "<Figure size 720x576 with 1 Axes>"
      ]
     },
     "metadata": {
      "needs_background": "light"
     },
     "output_type": "display_data"
    }
   ],
   "source": [
    "w=w.squeeze()\n",
    "w1 = [w[0].detach().item(),w[1].detach().item()]\n",
    "b1 = b.detach().item()\n",
    "\n",
    "fig = plt.figure(figsize=(10, 8))\n",
    "\n",
    "x = [10,max(f1_0)]\n",
    "y1 = -(w1[0]*x[0]/w1[1])-(b1/w1[1])\n",
    "\n",
    "y2 = -(w1[0]*x[1]/w1[1])-(b1/w1[1])\n",
    "plt.scatter(f1_0,f2_0,label='0')\n",
    "plt.scatter(f1_1,f2_1,label='1')\n",
    "plt.plot(x,[y1,y2])\n",
    "plt.legend()"
   ]
  },
  {
   "cell_type": "markdown",
   "metadata": {},
   "source": [
    "***"
   ]
  },
  {
   "cell_type": "code",
   "execution_count": 15,
   "metadata": {},
   "outputs": [
    {
     "data": {
      "text/plain": [
       "<matplotlib.image.AxesImage at 0x1f0acd71580>"
      ]
     },
     "execution_count": 15,
     "metadata": {},
     "output_type": "execute_result"
    },
    {
     "data": {
      "image/png": "[encoded data removed]",
      "text/plain": [
       "<Figure size 432x288 with 1 Axes>"
      ]
     },
     "metadata": {
      "needs_background": "light"
     },
     "output_type": "display_data"
    }
   ],
   "source": [
    "image = im.open(f'dataset/1/70.png')\n",
    "# image = im.open(f'dataset/0/0 (4).png')\n",
    "# label = int(imgname[index].split('/')[0])\n",
    "tt = transforms.Compose([transforms.PILToTensor()])\n",
    "tensor = tt(image)\n",
    "tensor = tensor.squeeze()\n",
    "feature1 = torch.sum(tensor)/784\n",
    "feature2 = torch.sum(tensor-tensor.T)/784\n",
    "x = torch.tensor([feature1,feature2])\n",
    "plt.imshow(tensor.T.numpy())"
   ]
  },
  {
   "cell_type": "code",
   "execution_count": 16,
   "metadata": {},
   "outputs": [
    {
     "data": {
      "text/plain": [
       "<matplotlib.image.AxesImage at 0x1f0b2f15f70>"
      ]
     },
     "execution_count": 16,
     "metadata": {},
     "output_type": "execute_result"
    },
    {
     "data": {
      "image/png": "[encoded data removed]",
      "text/plain": [
       "<Figure size 432x288 with 1 Axes>"
      ]
     },
     "metadata": {
      "needs_background": "light"
     },
     "output_type": "display_data"
    }
   ],
   "source": [
    "# image = im.open(f'dataset/0/0 (1).png')\n",
    "plt.imshow(image)"
   ]
  },
  {
   "cell_type": "code",
   "execution_count": 17,
   "metadata": {},
   "outputs": [
    {
     "data": {
      "text/plain": [
       "<matplotlib.image.AxesImage at 0x1f0b2f90400>"
      ]
     },
     "execution_count": 17,
     "metadata": {},
     "output_type": "execute_result"
    },
    {
     "data": {
      "image/png": "[encoded data removed]",
      "text/plain": [
       "<Figure size 432x288 with 1 Axes>"
      ]
     },
     "metadata": {
      "needs_background": "light"
     },
     "output_type": "display_data"
    }
   ],
   "source": [
    "plt.imshow((tensor-tensor.T).numpy())"
   ]
  },
  {
   "cell_type": "code",
   "execution_count": 19,
   "metadata": {},
   "outputs": [
    {
     "data": {
      "text/plain": [
       "<matplotlib.image.AxesImage at 0x1f0b3053490>"
      ]
     },
     "execution_count": 19,
     "metadata": {},
     "output_type": "execute_result"
    },
    {
     "data": {
      "image/png": "[encoded data removed]",
      "text/plain": [
       "<Figure size 432x288 with 1 Axes>"
      ]
     },
     "metadata": {
      "needs_background": "light"
     },
     "output_type": "display_data"
    }
   ],
   "source": [
    "im2 =np.array(\n",
    "    [\n",
    "    [0,0,1,0,0],\n",
    "    [0,1,0,1,0],\n",
    "    [1,0,0,0,1],\n",
    "    [0,1,0,1,0],\n",
    "    [0,0,1,0,0]]\n",
    ")\n",
    "plt.imshow(im2)"
   ]
  },
  {
   "cell_type": "code",
   "execution_count": 22,
   "metadata": {},
   "outputs": [
    {
     "data": {
      "text/plain": [
       "<matplotlib.image.AxesImage at 0x1f0b32ae160>"
      ]
     },
     "execution_count": 22,
     "metadata": {},
     "output_type": "execute_result"
    },
    {
     "data": {
      "image/png": "[encoded data removed]",
      "text/plain": [
       "<Figure size 432x288 with 1 Axes>"
      ]
     },
     "metadata": {
      "needs_background": "light"
     },
     "output_type": "display_data"
    }
   ],
   "source": [
    "plt.imshow(im2.T)"
   ]
  },
  {
   "cell_type": "code",
   "execution_count": 21,
   "metadata": {},
   "outputs": [
    {
     "data": {
      "text/plain": [
       "<matplotlib.image.AxesImage at 0x1f0b324cc10>"
      ]
     },
     "execution_count": 21,
     "metadata": {},
     "output_type": "execute_result"
    },
    {
     "data": {
      "image/png": "[encoded data removed]",
      "text/plain": [
       "<Figure size 432x288 with 1 Axes>"
      ]
     },
     "metadata": {
      "needs_background": "light"
     },
     "output_type": "display_data"
    }
   ],
   "source": [
    "plt.imshow(im2-im2.T)"
   ]
  }
 ],
 "metadata": {
  "kernelspec": {
   "display_name": "Python 3.9.5 64-bit",
   "language": "python",
   "name": "python3"
  },
  "language_info": {
   "codemirror_mode": {
    "name": "ipython",
    "version": 3
   },
   "file_extension": ".py",
   "mimetype": "text/x-python",
   "name": "python",
   "nbconvert_exporter": "python",
   "pygments_lexer": "ipython3",
   "version": "3.9.5"
  },
  "orig_nbformat": 4,
  "vscode": {
   "interpreter": {
    "hash": "1c74d99681ad1a2c591eba718ee02a1ecc6e61532130e8f76172a42e8769d33f"
   }
  }
 },
 "nbformat": 4,
 "nbformat_minor": 2
}
