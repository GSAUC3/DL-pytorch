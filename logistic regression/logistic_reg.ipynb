{
 "cells": [
  {
   "attachments": {},
   "cell_type": "markdown",
   "metadata": {},
   "source": [
    "# Logistic Regression\n",
    "\n",
    "\n",
    "Our Hypothesis:\n",
    "\n",
    "\\begin{equation}\n",
    "\\sigma(z) =  \\frac{\\mathrm{1} }{\\mathrm{1} + e^{-z} }\n",
    "\\end{equation}\n",
    "\n",
    "\\begin{equation}\n",
    "z = ax+by+c\n",
    "\\end{equation}\n",
    "Final hypothesis:\n",
    "\n",
    "\\begin{equation}\n",
    "h_\\theta(X) =  \\frac{\\mathrm{1} }{\\mathrm{1} + e^{-(ax+by+c)} }\n",
    "\\end{equation}\n",
    "\n",
    "Loss function for N sample:\n",
    "\n",
    "\\begin{equation}\n",
    "BCEloss(y,\\hat{y}) = \\frac{1}{N}\\sum_{i = 1}^{N}(-y_i*\\log{\\hat{y}_i}-(1-y_i)*\\log({1-\\hat{y}_i}))\n",
    "\\end{equation}\n",
    "\n",
    "\n",
    "Loss function for single sample:\n",
    "\n",
    "<!-- \\begin{equation}\n",
    "L(label,pred) = -label*\\log({pred})-(1-label)*\\log({1-pred})\n",
    "\\end{equation} \n",
    " -->\n",
    "\n",
    "\\begin{equation}\n",
    "L(label,pred) = -label*\\log({\\sigma(z)})-(1-label)*\\log({1-\\sigma(z)})\n",
    "\\end{equation} \n",
    "\n",
    "***\n",
    "### Update weights\n",
    "\n",
    "\\begin{equation}\n",
    "w_{i} = w_i- lr* \\frac{\\partial L}{\\partial w_i}\n",
    "\\end{equation}\n",
    "\n",
    "\\begin{equation}\n",
    " \\frac{\\partial L}{\\partial w_i} = (\\hat{y_i} - y_i)*x_i\n",
    "\\end{equation}\n",
    "\n"
   ]
  }
 ],
 "metadata": {
  "kernelspec": {
   "display_name": "Python 3",
   "language": "python",
   "name": "python3"
  },
  "language_info": {
   "codemirror_mode": {
    "name": "ipython",
    "version": 3
   },
   "file_extension": ".py",
   "mimetype": "text/x-python",
   "name": "python",
   "nbconvert_exporter": "python",
   "pygments_lexer": "ipython3",
   "version": "3.9.12"
  },
  "orig_nbformat": 4,
  "vscode": {
   "interpreter": {
    "hash": "1c74d99681ad1a2c591eba718ee02a1ecc6e61532130e8f76172a42e8769d33f"
   }
  }
 },
 "nbformat": 4,
 "nbformat_minor": 2
}
