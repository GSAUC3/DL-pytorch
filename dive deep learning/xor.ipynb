{
 "cells": [
  {
   "cell_type": "code",
   "execution_count": 31,
   "metadata": {},
   "outputs": [],
   "source": [
    "import torch \n",
    "from torch import nn \n",
    "from matplotlib import pyplot as plt \n",
    "%matplotlib inline\n",
    "import numpy as np \n",
    "from pytorchsummary import summary #pip install pytorchsummary"
   ]
  },
  {
   "cell_type": "markdown",
   "metadata": {},
   "source": [
    "Dataset"
   ]
  },
  {
   "cell_type": "code",
   "execution_count": 32,
   "metadata": {},
   "outputs": [
    {
     "data": {
      "text/plain": [
       "(array([[1., 0.],\n",
       "        [1., 1.],\n",
       "        [0., 0.],\n",
       "        [0., 1.]], dtype=float32),\n",
       " (4, 2))"
      ]
     },
     "execution_count": 32,
     "metadata": {},
     "output_type": "execute_result"
    }
   ],
   "source": [
    "datapoints = np.array([[1,0],[1,1],\n",
    "                       [0,0],[0,1]],dtype=np.float32)\n",
    "datapoints,datapoints.shape"
   ]
  },
  {
   "cell_type": "markdown",
   "metadata": {},
   "source": [
    "corresponding labels of the datapoints"
   ]
  },
  {
   "cell_type": "code",
   "execution_count": 33,
   "metadata": {},
   "outputs": [],
   "source": [
    "labels = [1,0,0,1]"
   ]
  },
  {
   "cell_type": "code",
   "execution_count": 34,
   "metadata": {},
   "outputs": [
    {
     "data": {
      "text/plain": [
       "<matplotlib.collections.PathCollection at 0x227f345de20>"
      ]
     },
     "execution_count": 34,
     "metadata": {},
     "output_type": "execute_result"
    },
    {
     "data": {
      "image/png": "[encoded data removed]",
      "text/plain": [
       "<Figure size 432x288 with 1 Axes>"
      ]
     },
     "metadata": {
      "needs_background": "light"
     },
     "output_type": "display_data"
    }
   ],
   "source": [
    "plt.scatter(datapoints[:,0],datapoints[:,1],c=labels)"
   ]
  },
  {
   "cell_type": "markdown",
   "metadata": {},
   "source": [
    "Define a MLP in pytorch with `activation functions`"
   ]
  },
  {
   "cell_type": "code",
   "execution_count": 35,
   "metadata": {},
   "outputs": [
    {
     "name": "stdout",
     "output_type": "stream",
     "text": [
      "               Layer\tOutput Shape        \t    Kernal Shape    \t#params             \t#(weights + bias)   \trequires_grad\n",
      "------------------------------------------------------------------------------------------------------------------------------------------------------\n",
      "            Linear-1\t[1, 2]              \t       [2, 2]       \t4                   \t(4+0)               \t   True   \n",
      "              Tanh-2\t[1, 2]              \t                    \t                    \t                    \t          \n",
      "            Linear-3\t[1, 1]              \t       [1, 2]       \t2                   \t(2+0)               \t   True   \n",
      "              Tanh-4\t[1, 1]              \t                    \t                    \t                    \t          \n",
      "______________________________________________________________________________________________________________________________________________________\n",
      "\n",
      "Total parameters 6\n",
      "Total Non-Trainable parameters 0\n",
      "Total Trainable parameters 6\n"
     ]
    },
    {
     "data": {
      "text/plain": [
       "((6, 6, 0),\n",
       " Acti(\n",
       "   (nn): Sequential(\n",
       "     (0): Linear(in_features=2, out_features=2, bias=False)\n",
       "     (1): Tanh()\n",
       "     (2): Linear(in_features=2, out_features=1, bias=False)\n",
       "     (3): Tanh()\n",
       "   )\n",
       " ))"
      ]
     },
     "execution_count": 35,
     "metadata": {},
     "output_type": "execute_result"
    }
   ],
   "source": [
    "class Acti(nn.Module):\n",
    "    def __init__(self,inputs,numclass) -> None:\n",
    "        super(Acti,self).__init__()\n",
    "        self.nn = nn.Sequential(\n",
    "            nn.Linear(inputs,2,bias=False),\n",
    "            nn.Tanh(),\n",
    "            nn.Linear(2,numclass,bias=False),\n",
    "            nn.Tanh()\n",
    "\n",
    "        )\n",
    "    def forward(self,x):\n",
    "        return self.nn(x)\n",
    "\n",
    "activationModel = Acti(2,1)\n",
    "summary((2,),activationModel),activationModel"
   ]
  },
  {
   "cell_type": "markdown",
   "metadata": {},
   "source": [
    "```c++\n",
    "output = Model(input)\n",
    "```"
   ]
  },
  {
   "cell_type": "code",
   "execution_count": 36,
   "metadata": {},
   "outputs": [
    {
     "data": {
      "text/plain": [
       "tensor([[ 0.1287],\n",
       "        [ 0.0527],\n",
       "        [ 0.0000],\n",
       "        [-0.0758]], grad_fn=<TanhBackward0>)"
      ]
     },
     "execution_count": 36,
     "metadata": {},
     "output_type": "execute_result"
    }
   ],
   "source": [
    "Xs = torch.tensor(datapoints) # changing numpy nd.array to pytorch tensors\n",
    "o_acti = activationModel(Xs)\n",
    "o_acti"
   ]
  },
  {
   "cell_type": "code",
   "execution_count": 37,
   "metadata": {},
   "outputs": [
    {
     "data": {
      "text/plain": [
       "torch.Size([4, 1])"
      ]
     },
     "execution_count": 37,
     "metadata": {},
     "output_type": "execute_result"
    }
   ],
   "source": [
    "o_acti.shape"
   ]
  },
  {
   "cell_type": "code",
   "execution_count": 38,
   "metadata": {},
   "outputs": [],
   "source": [
    "def plot(array,labels):\n",
    "    fig = plt.figure(figsize=(6,6))\n",
    "    plt.scatter(array[:,0].detach().numpy(),np.zeros_like(array[:,0].detach().numpy()),c=labels)"
   ]
  },
  {
   "cell_type": "code",
   "execution_count": 39,
   "metadata": {},
   "outputs": [
    {
     "data": {
      "image/png": "[encoded data removed]",
      "text/plain": [
       "<Figure size 432x432 with 1 Axes>"
      ]
     },
     "metadata": {
      "needs_background": "light"
     },
     "output_type": "display_data"
    }
   ],
   "source": [
    "plot(o_acti,labels)"
   ]
  },
  {
   "cell_type": "markdown",
   "metadata": {},
   "source": [
    "Defining a MLP with `NO Activation functions`"
   ]
  },
  {
   "cell_type": "code",
   "execution_count": 40,
   "metadata": {},
   "outputs": [
    {
     "name": "stdout",
     "output_type": "stream",
     "text": [
      "               Layer\tOutput Shape        \t    Kernal Shape    \t#params             \t#(weights + bias)   \trequires_grad\n",
      "------------------------------------------------------------------------------------------------------------------------------------------------------\n",
      "            Linear-1\t[1, 2]              \t       [2, 2]       \t4                   \t(4+0)               \t   True   \n",
      "            Linear-2\t[1, 1]              \t       [1, 2]       \t2                   \t(2+0)               \t   True   \n",
      "______________________________________________________________________________________________________________________________________________________\n",
      "\n",
      "Total parameters 6\n",
      "Total Non-Trainable parameters 0\n",
      "Total Trainable parameters 6\n"
     ]
    },
    {
     "data": {
      "text/plain": [
       "((6, 6, 0),\n",
       " NoActi(\n",
       "   (nn): Sequential(\n",
       "     (0): Linear(in_features=2, out_features=2, bias=False)\n",
       "     (1): Linear(in_features=2, out_features=1, bias=False)\n",
       "   )\n",
       " ))"
      ]
     },
     "execution_count": 40,
     "metadata": {},
     "output_type": "execute_result"
    }
   ],
   "source": [
    "class NoActi(nn.Module):\n",
    "    def __init__(self,inputs,numclass) -> None:\n",
    "        super(NoActi,self).__init__()\n",
    "        self.nn = nn.Sequential(\n",
    "            nn.Linear(inputs,2,bias=False),\n",
    "            nn.Linear(2,numclass,bias=False),\n",
    "        )\n",
    "    \n",
    "    def forward(self,x):\n",
    "        return self.nn(x)\n",
    "\n",
    "NoactivationModel = NoActi(2,1)\n",
    "summary((2,),NoactivationModel),NoactivationModel"
   ]
  },
  {
   "cell_type": "markdown",
   "metadata": {},
   "source": [
    "```python\n",
    "Output = model_with_noactivation(input)\n",
    "```"
   ]
  },
  {
   "cell_type": "code",
   "execution_count": 41,
   "metadata": {},
   "outputs": [
    {
     "data": {
      "text/plain": [
       "tensor([[ 0.1208],\n",
       "        [-0.1923],\n",
       "        [ 0.0000],\n",
       "        [-0.3131]], grad_fn=<MmBackward0>)"
      ]
     },
     "execution_count": 41,
     "metadata": {},
     "output_type": "execute_result"
    }
   ],
   "source": [
    "o_noacti = NoactivationModel(Xs)\n",
    "o_noacti"
   ]
  },
  {
   "cell_type": "code",
   "execution_count": 42,
   "metadata": {},
   "outputs": [
    {
     "data": {
      "image/png": "[encoded data removed]",
      "text/plain": [
       "<Figure size 432x432 with 1 Axes>"
      ]
     },
     "metadata": {
      "needs_background": "light"
     },
     "output_type": "display_data"
    }
   ],
   "source": [
    "plot(o_noacti,labels)"
   ]
  },
  {
   "cell_type": "markdown",
   "metadata": {},
   "source": [
    "# Training these two MLPS"
   ]
  },
  {
   "cell_type": "code",
   "execution_count": 43,
   "metadata": {},
   "outputs": [],
   "source": [
    "LOSS =nn.BCEWithLogitsLoss()\n",
    "noActi_optim = torch.optim.SGD(NoactivationModel.parameters(),lr=0.1)\n",
    "acti_optim = torch.optim.SGD(activationModel.parameters(),lr=0.1)"
   ]
  },
  {
   "cell_type": "code",
   "execution_count": 44,
   "metadata": {},
   "outputs": [],
   "source": [
    "class Dataset(torch.utils.data.Dataset):\n",
    "    def __init__(self) -> None:\n",
    "        self.data = Xs\n",
    "        self.targets = torch.tensor(labels,dtype=torch.float)\n",
    "    \n",
    "    def __len__(self):\n",
    "        return len(self.data)\n",
    "    \n",
    "    def __getitem__(self,index):\n",
    "         return self.data[index],self.targets[index]"
   ]
  },
  {
   "cell_type": "code",
   "execution_count": 45,
   "metadata": {},
   "outputs": [],
   "source": [
    "dataset = Dataset()\n",
    "loader = torch.utils.data.DataLoader(dataset,batch_size=4,shuffle=True)\n"
   ]
  },
  {
   "cell_type": "markdown",
   "metadata": {},
   "source": [
    "### Training function"
   ]
  },
  {
   "cell_type": "code",
   "execution_count": 46,
   "metadata": {},
   "outputs": [],
   "source": [
    "from tqdm.notebook import tqdm \n",
    "\n",
    "def training(trainloader,model1,model2,lossfn,optim1,optim2,epoch):\n",
    "    def noactitrain(trainloader,model1,lossfn,optim1):\n",
    "        for x,y in trainloader:\n",
    "            y=y.unsqueeze(1)\n",
    "            optim1.zero_grad()\n",
    "            yhat = model1(x)\n",
    "            batchloss = lossfn(yhat,y)\n",
    "            batchloss.backward()\n",
    "            optim1.step()\n",
    "        return batchloss.item()\n",
    "\n",
    "    def actitrain(trainloader,model2,lossfn,optim2):\n",
    "        \n",
    "        for x,y in trainloader:\n",
    "            y=y.unsqueeze(1)\n",
    "            optim2.zero_grad()\n",
    "            yhat = model2(x)\n",
    "            batchloss = lossfn(yhat,y)\n",
    "            batchloss.backward()\n",
    "            optim2.step()\n",
    "        return batchloss.item()\n",
    "    \n",
    "    nosigLOSS = list()\n",
    "    sigLOSS = list()\n",
    "    for e in tqdm(range(epoch)):\n",
    "        nosigLOSS.append(noactitrain(trainloader,model1,lossfn,optim1))\n",
    "    for e in tqdm(range(epoch)):\n",
    "        sigLOSS.append(actitrain(trainloader,model2,lossfn,optim2))\n",
    "    \n",
    "    plt.plot(range(epoch),sigLOSS,label='WITH activations')\n",
    "    plt.plot(range(epoch),nosigLOSS,color='r',label='WITHOUT activations')\n",
    "    plt.legend()\n",
    "    plt.show()\n"
   ]
  },
  {
   "cell_type": "code",
   "execution_count": 47,
   "metadata": {},
   "outputs": [
    {
     "data": {
      "application/vnd.jupyter.widget-view+json": {
       "model_id": "2db7ab3f3df445cc8295ec8460f403d5",
       "version_major": 2,
       "version_minor": 0
      },
      "text/plain": [
       "  0%|          | 0/10000 [00:00<?, ?it/s]"
      ]
     },
     "metadata": {},
     "output_type": "display_data"
    },
    {
     "data": {
      "application/vnd.jupyter.widget-view+json": {
       "model_id": "9fd7baad780644488c015609d8a529fe",
       "version_major": 2,
       "version_minor": 0
      },
      "text/plain": [
       "  0%|          | 0/10000 [00:00<?, ?it/s]"
      ]
     },
     "metadata": {},
     "output_type": "display_data"
    },
    {
     "data": {
      "image/png": "[encoded data removed]",
      "text/plain": [
       "<Figure size 432x288 with 1 Axes>"
      ]
     },
     "metadata": {
      "needs_background": "light"
     },
     "output_type": "display_data"
    }
   ],
   "source": [
    "training(loader,NoactivationModel,activationModel,LOSS,noActi_optim,acti_optim,10000)"
   ]
  },
  {
   "cell_type": "markdown",
   "metadata": {},
   "source": [
    "Model with No Activation function"
   ]
  },
  {
   "cell_type": "code",
   "execution_count": 48,
   "metadata": {},
   "outputs": [
    {
     "data": {
      "image/png": "[encoded data removed]",
      "text/plain": [
       "<Figure size 432x432 with 1 Axes>"
      ]
     },
     "metadata": {
      "needs_background": "light"
     },
     "output_type": "display_data"
    }
   ],
   "source": [
    "plot(NoactivationModel(Xs),labels)"
   ]
  },
  {
   "cell_type": "markdown",
   "metadata": {},
   "source": [
    "Model with activation function"
   ]
  },
  {
   "cell_type": "code",
   "execution_count": 49,
   "metadata": {},
   "outputs": [
    {
     "data": {
      "image/png": "[encoded data removed]",
      "text/plain": [
       "<Figure size 432x432 with 1 Axes>"
      ]
     },
     "metadata": {
      "needs_background": "light"
     },
     "output_type": "display_data"
    }
   ],
   "source": [
    "plot(activationModel(Xs),labels)"
   ]
  },
  {
   "cell_type": "code",
   "execution_count": 50,
   "metadata": {},
   "outputs": [
    {
     "name": "stdout",
     "output_type": "stream",
     "text": [
      "Layer 0 | Shape of the weight:  torch.Size([2, 2])\n",
      "Layer 1 | Shape of the weight:  torch.Size([1, 2])\n"
     ]
    }
   ],
   "source": [
    "for i,p in enumerate(NoactivationModel.parameters()):\n",
    "    print(f'Layer {i} | Shape of the weight: ',p.shape)"
   ]
  },
  {
   "cell_type": "code",
   "execution_count": 51,
   "metadata": {},
   "outputs": [
    {
     "name": "stdout",
     "output_type": "stream",
     "text": [
      "Layer 0 | Shape of the weight:  torch.Size([2, 2])\n",
      "Layer 1 | Shape of the weight:  torch.Size([1, 2])\n"
     ]
    }
   ],
   "source": [
    "for i,p in enumerate(activationModel.parameters()):\n",
    "    print(f'Layer {i} | Shape of the weight: ',p.shape)"
   ]
  },
  {
   "cell_type": "code",
   "execution_count": 52,
   "metadata": {},
   "outputs": [
    {
     "name": "stdout",
     "output_type": "stream",
     "text": [
      "Parameter containing:\n",
      "tensor([[ 0.4683,  0.4685],\n",
      "        [-3.2084, -3.2649]], requires_grad=True)\n",
      "Parameter containing:\n",
      "tensor([[-10.1191,  -6.0773]], requires_grad=True)\n"
     ]
    }
   ],
   "source": [
    "for p in activationModel.parameters():\n",
    "    print(p)"
   ]
  },
  {
   "cell_type": "markdown",
   "metadata": {},
   "source": [
    "# Activation model"
   ]
  },
  {
   "cell_type": "code",
   "execution_count": 53,
   "metadata": {},
   "outputs": [
    {
     "data": {
      "text/plain": [
       "tensor([[ 0.9271],\n",
       "        [-0.8735],\n",
       "        [ 0.0000],\n",
       "        [ 0.9271]], grad_fn=<TanhBackward0>)"
      ]
     },
     "execution_count": 53,
     "metadata": {},
     "output_type": "execute_result"
    }
   ],
   "source": [
    "activationModel(Xs)"
   ]
  },
  {
   "cell_type": "code",
   "execution_count": 54,
   "metadata": {},
   "outputs": [
    {
     "data": {
      "text/plain": [
       "(tensor([[ 0.4683,  0.4685],\n",
       "         [-3.2084, -3.2649]]),\n",
       " torch.Size([2, 2]),\n",
       " tensor([[-10.1191,  -6.0773]]),\n",
       " torch.Size([1, 2]))"
      ]
     },
     "execution_count": 54,
     "metadata": {},
     "output_type": "execute_result"
    }
   ],
   "source": [
    "W0=activationModel.nn[0].weight.detach()\n",
    "W1=activationModel.nn[2].weight.detach()\n",
    "W0,W0.shape,W1,W1.shape"
   ]
  },
  {
   "cell_type": "code",
   "execution_count": 55,
   "metadata": {},
   "outputs": [
    {
     "data": {
      "text/plain": [
       "(tensor([[1., 0.],\n",
       "         [1., 1.],\n",
       "         [0., 0.],\n",
       "         [0., 1.]]),\n",
       " tensor([[1., 1., 0., 0.],\n",
       "         [0., 1., 0., 1.]]))"
      ]
     },
     "execution_count": 55,
     "metadata": {},
     "output_type": "execute_result"
    }
   ],
   "source": [
    "Xs,Xs.T"
   ]
  },
  {
   "cell_type": "code",
   "execution_count": 56,
   "metadata": {},
   "outputs": [
    {
     "name": "stdout",
     "output_type": "stream",
     "text": [
      "tensor([[ 0.4683,  0.9368,  0.0000,  0.4685],\n",
      "        [-3.2084, -6.4733,  0.0000, -3.2649]]) torch.Size([2, 4])\n"
     ]
    },
    {
     "data": {
      "text/plain": [
       "tensor([[ 0.9271, -0.8735,  0.0000,  0.9271]])"
      ]
     },
     "execution_count": 56,
     "metadata": {},
     "output_type": "execute_result"
    }
   ],
   "source": [
    "a1 = torch.matmul(W0,Xs.T)\n",
    "print(a1,a1.shape)\n",
    "a1 = torch.tanh(a1)\n",
    "a2 = torch.matmul(W1,a1)\n",
    "torch.tanh(a2)"
   ]
  },
  {
   "cell_type": "markdown",
   "metadata": {},
   "source": [
    "# No Activation"
   ]
  },
  {
   "cell_type": "code",
   "execution_count": 57,
   "metadata": {},
   "outputs": [
    {
     "data": {
      "text/plain": [
       "tensor([[ 8.0466e-07],\n",
       "        [-4.3213e-07],\n",
       "        [ 0.0000e+00],\n",
       "        [-1.2368e-06]], grad_fn=<MmBackward0>)"
      ]
     },
     "execution_count": 57,
     "metadata": {},
     "output_type": "execute_result"
    }
   ],
   "source": [
    "NoactivationModel(Xs)"
   ]
  },
  {
   "cell_type": "code",
   "execution_count": 58,
   "metadata": {},
   "outputs": [
    {
     "data": {
      "text/plain": [
       "(tensor([[-0.0664,  0.2400],\n",
       "         [-0.0371,  0.1341]]),\n",
       " tensor([[-0.3866,  0.6918]]))"
      ]
     },
     "execution_count": 58,
     "metadata": {},
     "output_type": "execute_result"
    }
   ],
   "source": [
    "_w0 = NoactivationModel.nn[0].weight.detach()\n",
    "_w1 = NoactivationModel.nn[1].weight.detach()\n",
    "_w0,_w1"
   ]
  },
  {
   "cell_type": "code",
   "execution_count": 59,
   "metadata": {},
   "outputs": [
    {
     "name": "stdout",
     "output_type": "stream",
     "text": [
      "tensor([[-0.0664,  0.1736,  0.0000,  0.2400],\n",
      "        [-0.0371,  0.0970,  0.0000,  0.1341]])\n"
     ]
    },
    {
     "data": {
      "text/plain": [
       "<matplotlib.collections.PathCollection at 0x227f96ed9d0>"
      ]
     },
     "execution_count": 59,
     "metadata": {},
     "output_type": "execute_result"
    },
    {
     "data": {
      "image/png": "[encoded data removed]",
      "text/plain": [
       "<Figure size 432x288 with 1 Axes>"
      ]
     },
     "metadata": {
      "needs_background": "light"
     },
     "output_type": "display_data"
    }
   ],
   "source": [
    "_a1 = torch.matmul(_w0,Xs.T)\n",
    "print(_a1)\n",
    "plt.scatter(_a1[0,:].numpy(),_a1[1,:].numpy(),c=labels)\n",
    "# plt.axline((0, 0), slope=(-0.0503/-0.3508), color=\"yellow\", linestyle='--')\n",
    "# plt.axline((0, 0), slope=(-0.1591/-0.6467), color=\"yellow\", linestyle='--')\n"
   ]
  },
  {
   "cell_type": "code",
   "execution_count": 60,
   "metadata": {},
   "outputs": [
    {
     "data": {
      "text/plain": [
       "(tensor([[ 8.0391e-07, -4.3458e-07,  0.0000e+00, -1.2392e-06]]),\n",
       " torch.Size([1, 4]),\n",
       " <matplotlib.collections.PathCollection at 0x227f97549d0>)"
      ]
     },
     "execution_count": 60,
     "metadata": {},
     "output_type": "execute_result"
    },
    {
     "data": {
      "image/png": "[encoded data removed]",
      "text/plain": [
       "<Figure size 432x288 with 1 Axes>"
      ]
     },
     "metadata": {
      "needs_background": "light"
     },
     "output_type": "display_data"
    }
   ],
   "source": [
    "_a2 = torch.matmul(_w1,_a1)\n",
    "_a2,_a2.shape,plt.scatter(_a2[0],[0]*4,c=labels)"
   ]
  }
 ],
 "metadata": {
  "kernelspec": {
   "display_name": "Python 3.9.5 64-bit",
   "language": "python",
   "name": "python3"
  },
  "language_info": {
   "codemirror_mode": {
    "name": "ipython",
    "version": 3
   },
   "file_extension": ".py",
   "mimetype": "text/x-python",
   "name": "python",
   "nbconvert_exporter": "python",
   "pygments_lexer": "ipython3",
   "version": "3.9.5"
  },
  "orig_nbformat": 4,
  "vscode": {
   "interpreter": {
    "hash": "1c74d99681ad1a2c591eba718ee02a1ecc6e61532130e8f76172a42e8769d33f"
   }
  }
 },
 "nbformat": 4,
 "nbformat_minor": 2
}
