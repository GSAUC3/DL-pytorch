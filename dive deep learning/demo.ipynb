{
 "cells": [
  {
   "cell_type": "code",
   "execution_count": null,
   "metadata": {},
   "outputs": [],
   "source": [
    "import numpy as np \n",
    "from matplotlib import pyplot as plt \n",
    "%matplotlib inline"
   ]
  },
  {
   "cell_type": "code",
   "execution_count": null,
   "metadata": {},
   "outputs": [],
   "source": [
    "points = np.array([[1,0,0,1],\n",
    "                   [0,0,1,1]])\n",
    "points,points.shape"
   ]
  },
  {
   "cell_type": "code",
   "execution_count": null,
   "metadata": {},
   "outputs": [],
   "source": [
    "labels = [0,1,2,3]\n",
    "plt.scatter(points[0],points[1],c=labels,cmap='tab10')"
   ]
  },
  {
   "cell_type": "code",
   "execution_count": null,
   "metadata": {},
   "outputs": [],
   "source": [
    "t = np.array([[1,-1],\n",
    "            [0,1]])\n",
    "o = t.dot(points)\n",
    "points,o"
   ]
  },
  {
   "cell_type": "code",
   "execution_count": null,
   "metadata": {},
   "outputs": [],
   "source": [
    "fig = plt.figure(figsize=(8,4.5))\n",
    "plt.scatter(o[0],o[1],c=labels,cmap='tab10')\n",
    "plt.axline((1,0 ), slope=(0), color=\"blue\", linestyle='--')\n",
    "plt.axline((-1, 1), slope=-1, color=\"green\", linestyle='--')"
   ]
  },
  {
   "cell_type": "code",
   "execution_count": null,
   "metadata": {},
   "outputs": [],
   "source": []
  }
 ],
 "metadata": {
  "kernelspec": {
   "display_name": "Python 3.9.5 64-bit",
   "language": "python",
   "name": "python3"
  },
  "language_info": {
   "codemirror_mode": {
    "name": "ipython",
    "version": 3
   },
   "file_extension": ".py",
   "mimetype": "text/x-python",
   "name": "python",
   "nbconvert_exporter": "python",
   "pygments_lexer": "ipython3",
   "version": "3.9.5"
  },
  "orig_nbformat": 4,
  "vscode": {
   "interpreter": {
    "hash": "1c74d99681ad1a2c591eba718ee02a1ecc6e61532130e8f76172a42e8769d33f"
   }
  }
 },
 "nbformat": 4,
 "nbformat_minor": 2
}
