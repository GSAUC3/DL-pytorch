{
 "cells": [
  {
   "cell_type": "code",
   "execution_count": 1,
   "metadata": {},
   "outputs": [],
   "source": [
    "import torch \n",
    "from torch import nn \n",
    "from matplotlib import pyplot as plt \n",
    "%matplotlib inline\n",
    "import pandas as pd\n",
    "import numpy as np"
   ]
  },
  {
   "cell_type": "markdown",
   "metadata": {},
   "source": [
    "Read the CSV FILE"
   ]
  },
  {
   "cell_type": "code",
   "execution_count": 2,
   "metadata": {},
   "outputs": [
    {
     "data": {
      "text/html": [
       "<div>\n",
       "<style scoped>\n",
       "    .dataframe tbody tr th:only-of-type {\n",
       "        vertical-align: middle;\n",
       "    }\n",
       "\n",
       "    .dataframe tbody tr th {\n",
       "        vertical-align: top;\n",
       "    }\n",
       "\n",
       "    .dataframe thead th {\n",
       "        text-align: right;\n",
       "    }\n",
       "</style>\n",
       "<table border=\"1\" class=\"dataframe\">\n",
       "  <thead>\n",
       "    <tr style=\"text-align: right;\">\n",
       "      <th></th>\n",
       "      <th>PassengerId</th>\n",
       "      <th>Survived</th>\n",
       "      <th>Pclass</th>\n",
       "      <th>Age</th>\n",
       "      <th>SibSp</th>\n",
       "      <th>Parch</th>\n",
       "      <th>Fare</th>\n",
       "    </tr>\n",
       "  </thead>\n",
       "  <tbody>\n",
       "    <tr>\n",
       "      <th>count</th>\n",
       "      <td>891.000000</td>\n",
       "      <td>891.000000</td>\n",
       "      <td>891.000000</td>\n",
       "      <td>714.000000</td>\n",
       "      <td>891.000000</td>\n",
       "      <td>891.000000</td>\n",
       "      <td>891.000000</td>\n",
       "    </tr>\n",
       "    <tr>\n",
       "      <th>mean</th>\n",
       "      <td>446.000000</td>\n",
       "      <td>0.383838</td>\n",
       "      <td>2.308642</td>\n",
       "      <td>29.699118</td>\n",
       "      <td>0.523008</td>\n",
       "      <td>0.381594</td>\n",
       "      <td>32.204208</td>\n",
       "    </tr>\n",
       "    <tr>\n",
       "      <th>std</th>\n",
       "      <td>257.353842</td>\n",
       "      <td>0.486592</td>\n",
       "      <td>0.836071</td>\n",
       "      <td>14.526497</td>\n",
       "      <td>1.102743</td>\n",
       "      <td>0.806057</td>\n",
       "      <td>49.693429</td>\n",
       "    </tr>\n",
       "    <tr>\n",
       "      <th>min</th>\n",
       "      <td>1.000000</td>\n",
       "      <td>0.000000</td>\n",
       "      <td>1.000000</td>\n",
       "      <td>0.420000</td>\n",
       "      <td>0.000000</td>\n",
       "      <td>0.000000</td>\n",
       "      <td>0.000000</td>\n",
       "    </tr>\n",
       "    <tr>\n",
       "      <th>25%</th>\n",
       "      <td>223.500000</td>\n",
       "      <td>0.000000</td>\n",
       "      <td>2.000000</td>\n",
       "      <td>20.125000</td>\n",
       "      <td>0.000000</td>\n",
       "      <td>0.000000</td>\n",
       "      <td>7.910400</td>\n",
       "    </tr>\n",
       "    <tr>\n",
       "      <th>50%</th>\n",
       "      <td>446.000000</td>\n",
       "      <td>0.000000</td>\n",
       "      <td>3.000000</td>\n",
       "      <td>28.000000</td>\n",
       "      <td>0.000000</td>\n",
       "      <td>0.000000</td>\n",
       "      <td>14.454200</td>\n",
       "    </tr>\n",
       "    <tr>\n",
       "      <th>75%</th>\n",
       "      <td>668.500000</td>\n",
       "      <td>1.000000</td>\n",
       "      <td>3.000000</td>\n",
       "      <td>38.000000</td>\n",
       "      <td>1.000000</td>\n",
       "      <td>0.000000</td>\n",
       "      <td>31.000000</td>\n",
       "    </tr>\n",
       "    <tr>\n",
       "      <th>max</th>\n",
       "      <td>891.000000</td>\n",
       "      <td>1.000000</td>\n",
       "      <td>3.000000</td>\n",
       "      <td>80.000000</td>\n",
       "      <td>8.000000</td>\n",
       "      <td>6.000000</td>\n",
       "      <td>512.329200</td>\n",
       "    </tr>\n",
       "  </tbody>\n",
       "</table>\n",
       "</div>"
      ],
      "text/plain": [
       "       PassengerId    Survived      Pclass         Age       SibSp  \\\n",
       "count   891.000000  891.000000  891.000000  714.000000  891.000000   \n",
       "mean    446.000000    0.383838    2.308642   29.699118    0.523008   \n",
       "std     257.353842    0.486592    0.836071   14.526497    1.102743   \n",
       "min       1.000000    0.000000    1.000000    0.420000    0.000000   \n",
       "25%     223.500000    0.000000    2.000000   20.125000    0.000000   \n",
       "50%     446.000000    0.000000    3.000000   28.000000    0.000000   \n",
       "75%     668.500000    1.000000    3.000000   38.000000    1.000000   \n",
       "max     891.000000    1.000000    3.000000   80.000000    8.000000   \n",
       "\n",
       "            Parch        Fare  \n",
       "count  891.000000  891.000000  \n",
       "mean     0.381594   32.204208  \n",
       "std      0.806057   49.693429  \n",
       "min      0.000000    0.000000  \n",
       "25%      0.000000    7.910400  \n",
       "50%      0.000000   14.454200  \n",
       "75%      0.000000   31.000000  \n",
       "max      6.000000  512.329200  "
      ]
     },
     "execution_count": 2,
     "metadata": {},
     "output_type": "execute_result"
    }
   ],
   "source": [
    "trainset = pd.read_csv('train.csv')\n",
    "trainset.describe()"
   ]
  },
  {
   "cell_type": "markdown",
   "metadata": {},
   "source": [
    "Check if any which attribute / column contains null values"
   ]
  },
  {
   "cell_type": "code",
   "execution_count": 3,
   "metadata": {},
   "outputs": [
    {
     "data": {
      "text/plain": [
       "PassengerId      0\n",
       "Survived         0\n",
       "Pclass           0\n",
       "Name             0\n",
       "Sex              0\n",
       "Age            177\n",
       "SibSp            0\n",
       "Parch            0\n",
       "Ticket           0\n",
       "Fare             0\n",
       "Cabin          687\n",
       "Embarked         2\n",
       "dtype: int64"
      ]
     },
     "execution_count": 3,
     "metadata": {},
     "output_type": "execute_result"
    }
   ],
   "source": [
    "trainset.isnull().sum()"
   ]
  },
  {
   "cell_type": "markdown",
   "metadata": {},
   "source": [
    "Exctract only two features/ columns/ attributes for demonstration purpose"
   ]
  },
  {
   "cell_type": "code",
   "execution_count": 4,
   "metadata": {},
   "outputs": [
    {
     "data": {
      "text/html": [
       "<div>\n",
       "<style scoped>\n",
       "    .dataframe tbody tr th:only-of-type {\n",
       "        vertical-align: middle;\n",
       "    }\n",
       "\n",
       "    .dataframe tbody tr th {\n",
       "        vertical-align: top;\n",
       "    }\n",
       "\n",
       "    .dataframe thead th {\n",
       "        text-align: right;\n",
       "    }\n",
       "</style>\n",
       "<table border=\"1\" class=\"dataframe\">\n",
       "  <thead>\n",
       "    <tr style=\"text-align: right;\">\n",
       "      <th></th>\n",
       "      <th>Fare</th>\n",
       "      <th>Sex</th>\n",
       "    </tr>\n",
       "  </thead>\n",
       "  <tbody>\n",
       "    <tr>\n",
       "      <th>0</th>\n",
       "      <td>7.2500</td>\n",
       "      <td>male</td>\n",
       "    </tr>\n",
       "    <tr>\n",
       "      <th>1</th>\n",
       "      <td>71.2833</td>\n",
       "      <td>female</td>\n",
       "    </tr>\n",
       "    <tr>\n",
       "      <th>2</th>\n",
       "      <td>7.9250</td>\n",
       "      <td>female</td>\n",
       "    </tr>\n",
       "    <tr>\n",
       "      <th>3</th>\n",
       "      <td>53.1000</td>\n",
       "      <td>female</td>\n",
       "    </tr>\n",
       "    <tr>\n",
       "      <th>4</th>\n",
       "      <td>8.0500</td>\n",
       "      <td>male</td>\n",
       "    </tr>\n",
       "  </tbody>\n",
       "</table>\n",
       "</div>"
      ],
      "text/plain": [
       "      Fare     Sex\n",
       "0   7.2500    male\n",
       "1  71.2833  female\n",
       "2   7.9250  female\n",
       "3  53.1000  female\n",
       "4   8.0500    male"
      ]
     },
     "execution_count": 4,
     "metadata": {},
     "output_type": "execute_result"
    }
   ],
   "source": [
    "df = trainset[['Fare','Sex']]\n",
    "df.head()"
   ]
  },
  {
   "cell_type": "markdown",
   "metadata": {},
   "source": [
    "Change the string male / female to 1,0 respectively "
   ]
  },
  {
   "cell_type": "code",
   "execution_count": 5,
   "metadata": {},
   "outputs": [
    {
     "name": "stderr",
     "output_type": "stream",
     "text": [
      "c:\\Users\\Samba\\AppData\\Local\\Programs\\Python\\Python39\\lib\\site-packages\\pandas\\core\\generic.py:6619: SettingWithCopyWarning: \n",
      "A value is trying to be set on a copy of a slice from a DataFrame\n",
      "\n",
      "See the caveats in the documentation: https://pandas.pydata.org/pandas-docs/stable/user_guide/indexing.html#returning-a-view-versus-a-copy\n",
      "  return self._update_inplace(result)\n"
     ]
    },
    {
     "data": {
      "text/html": [
       "<div>\n",
       "<style scoped>\n",
       "    .dataframe tbody tr th:only-of-type {\n",
       "        vertical-align: middle;\n",
       "    }\n",
       "\n",
       "    .dataframe tbody tr th {\n",
       "        vertical-align: top;\n",
       "    }\n",
       "\n",
       "    .dataframe thead th {\n",
       "        text-align: right;\n",
       "    }\n",
       "</style>\n",
       "<table border=\"1\" class=\"dataframe\">\n",
       "  <thead>\n",
       "    <tr style=\"text-align: right;\">\n",
       "      <th></th>\n",
       "      <th>Fare</th>\n",
       "      <th>Sex</th>\n",
       "    </tr>\n",
       "  </thead>\n",
       "  <tbody>\n",
       "    <tr>\n",
       "      <th>0</th>\n",
       "      <td>7.2500</td>\n",
       "      <td>1</td>\n",
       "    </tr>\n",
       "    <tr>\n",
       "      <th>1</th>\n",
       "      <td>71.2833</td>\n",
       "      <td>0</td>\n",
       "    </tr>\n",
       "    <tr>\n",
       "      <th>2</th>\n",
       "      <td>7.9250</td>\n",
       "      <td>0</td>\n",
       "    </tr>\n",
       "    <tr>\n",
       "      <th>3</th>\n",
       "      <td>53.1000</td>\n",
       "      <td>0</td>\n",
       "    </tr>\n",
       "    <tr>\n",
       "      <th>4</th>\n",
       "      <td>8.0500</td>\n",
       "      <td>1</td>\n",
       "    </tr>\n",
       "  </tbody>\n",
       "</table>\n",
       "</div>"
      ],
      "text/plain": [
       "      Fare  Sex\n",
       "0   7.2500    1\n",
       "1  71.2833    0\n",
       "2   7.9250    0\n",
       "3  53.1000    0\n",
       "4   8.0500    1"
      ]
     },
     "execution_count": 5,
     "metadata": {},
     "output_type": "execute_result"
    }
   ],
   "source": [
    "df['Sex'].replace(['female','male'],[0,1],inplace=True)\n",
    "df.head()"
   ]
  },
  {
   "cell_type": "markdown",
   "metadata": {},
   "source": [
    "Scale all the values by multiplying the Fare vector with `1/512` scaler "
   ]
  },
  {
   "cell_type": "code",
   "execution_count": 6,
   "metadata": {},
   "outputs": [
    {
     "name": "stderr",
     "output_type": "stream",
     "text": [
      "C:\\Users\\Samba\\AppData\\Local\\Temp\\ipykernel_14456\\1596856497.py:1: SettingWithCopyWarning: \n",
      "A value is trying to be set on a copy of a slice from a DataFrame.\n",
      "Try using .loc[row_indexer,col_indexer] = value instead\n",
      "\n",
      "See the caveats in the documentation: https://pandas.pydata.org/pandas-docs/stable/user_guide/indexing.html#returning-a-view-versus-a-copy\n",
      "  df['Fare'] = df['Fare']/512\n"
     ]
    },
    {
     "data": {
      "text/html": [
       "<div>\n",
       "<style scoped>\n",
       "    .dataframe tbody tr th:only-of-type {\n",
       "        vertical-align: middle;\n",
       "    }\n",
       "\n",
       "    .dataframe tbody tr th {\n",
       "        vertical-align: top;\n",
       "    }\n",
       "\n",
       "    .dataframe thead th {\n",
       "        text-align: right;\n",
       "    }\n",
       "</style>\n",
       "<table border=\"1\" class=\"dataframe\">\n",
       "  <thead>\n",
       "    <tr style=\"text-align: right;\">\n",
       "      <th></th>\n",
       "      <th>Fare</th>\n",
       "      <th>Sex</th>\n",
       "    </tr>\n",
       "  </thead>\n",
       "  <tbody>\n",
       "    <tr>\n",
       "      <th>0</th>\n",
       "      <td>0.014160</td>\n",
       "      <td>1</td>\n",
       "    </tr>\n",
       "    <tr>\n",
       "      <th>1</th>\n",
       "      <td>0.139225</td>\n",
       "      <td>0</td>\n",
       "    </tr>\n",
       "    <tr>\n",
       "      <th>2</th>\n",
       "      <td>0.015479</td>\n",
       "      <td>0</td>\n",
       "    </tr>\n",
       "    <tr>\n",
       "      <th>3</th>\n",
       "      <td>0.103711</td>\n",
       "      <td>0</td>\n",
       "    </tr>\n",
       "    <tr>\n",
       "      <th>4</th>\n",
       "      <td>0.015723</td>\n",
       "      <td>1</td>\n",
       "    </tr>\n",
       "    <tr>\n",
       "      <th>5</th>\n",
       "      <td>0.016520</td>\n",
       "      <td>1</td>\n",
       "    </tr>\n",
       "    <tr>\n",
       "      <th>6</th>\n",
       "      <td>0.101294</td>\n",
       "      <td>1</td>\n",
       "    </tr>\n",
       "    <tr>\n",
       "      <th>7</th>\n",
       "      <td>0.041162</td>\n",
       "      <td>1</td>\n",
       "    </tr>\n",
       "    <tr>\n",
       "      <th>8</th>\n",
       "      <td>0.021745</td>\n",
       "      <td>0</td>\n",
       "    </tr>\n",
       "    <tr>\n",
       "      <th>9</th>\n",
       "      <td>0.058732</td>\n",
       "      <td>0</td>\n",
       "    </tr>\n",
       "  </tbody>\n",
       "</table>\n",
       "</div>"
      ],
      "text/plain": [
       "       Fare  Sex\n",
       "0  0.014160    1\n",
       "1  0.139225    0\n",
       "2  0.015479    0\n",
       "3  0.103711    0\n",
       "4  0.015723    1\n",
       "5  0.016520    1\n",
       "6  0.101294    1\n",
       "7  0.041162    1\n",
       "8  0.021745    0\n",
       "9  0.058732    0"
      ]
     },
     "execution_count": 6,
     "metadata": {},
     "output_type": "execute_result"
    }
   ],
   "source": [
    "df['Fare'] = df['Fare']/512\n",
    "df.head(10)"
   ]
  },
  {
   "cell_type": "code",
   "execution_count": 7,
   "metadata": {},
   "outputs": [
    {
     "data": {
      "text/plain": [
       "<matplotlib.collections.PathCollection at 0x22085d8ad90>"
      ]
     },
     "execution_count": 7,
     "metadata": {},
     "output_type": "execute_result"
    },
    {
     "data": {
      "image/png": "[encoded data removed]",
      "text/plain": [
       "<Figure size 720x720 with 1 Axes>"
      ]
     },
     "metadata": {
      "needs_background": "light"
     },
     "output_type": "display_data"
    }
   ],
   "source": [
    "fig = plt.figure(figsize=(10,10))\n",
    "plt.scatter(df.Fare,df.Sex,c=trainset.Survived)"
   ]
  },
  {
   "cell_type": "markdown",
   "metadata": {},
   "source": [
    "convert the dataset to numpy then to tensor"
   ]
  },
  {
   "cell_type": "code",
   "execution_count": 8,
   "metadata": {},
   "outputs": [
    {
     "data": {
      "text/plain": [
       "tensor([[0.0142, 1.0000],\n",
       "        [0.1392, 0.0000],\n",
       "        [0.0155, 0.0000],\n",
       "        [0.1037, 0.0000],\n",
       "        [0.0157, 1.0000],\n",
       "        [0.0165, 1.0000],\n",
       "        [0.1013, 1.0000],\n",
       "        [0.0412, 1.0000],\n",
       "        [0.0217, 0.0000],\n",
       "        [0.0587, 0.0000],\n",
       "        [0.0326, 0.0000],\n",
       "        [0.0519, 0.0000],\n",
       "        [0.0157, 1.0000],\n",
       "        [0.0611, 1.0000],\n",
       "        [0.0153, 0.0000],\n",
       "        [0.0312, 0.0000],\n",
       "        [0.0569, 1.0000],\n",
       "        [0.0254, 1.0000],\n",
       "        [0.0352, 0.0000],\n",
       "        [0.0141, 0.0000]])"
      ]
     },
     "execution_count": 8,
     "metadata": {},
     "output_type": "execute_result"
    }
   ],
   "source": [
    "numpyx = df.to_numpy()\n",
    "numpyx = torch.tensor(numpyx[:20],dtype=torch.float32)\n",
    "numpyx"
   ]
  },
  {
   "cell_type": "markdown",
   "metadata": {},
   "source": [
    "### NN with activation function"
   ]
  },
  {
   "cell_type": "code",
   "execution_count": 9,
   "metadata": {},
   "outputs": [
    {
     "data": {
      "text/plain": [
       "WithSigmoid(\n",
       "  (nn): Sequential(\n",
       "    (0): Linear(in_features=2, out_features=3, bias=False)\n",
       "    (1): Sigmoid()\n",
       "    (2): Linear(in_features=3, out_features=4, bias=False)\n",
       "    (3): Sigmoid()\n",
       "    (4): Linear(in_features=4, out_features=2, bias=False)\n",
       "  )\n",
       ")"
      ]
     },
     "execution_count": 9,
     "metadata": {},
     "output_type": "execute_result"
    }
   ],
   "source": [
    "class WithSigmoid(nn.Module):\n",
    "    def __init__(self,infeatures,numclasses) -> None:\n",
    "        super(WithSigmoid,self).__init__()\n",
    "        self.nn = nn.Sequential(\n",
    "            nn.Linear(infeatures,3,bias=False),\n",
    "            # nn.ReLU(),\n",
    "            nn.Sigmoid(),\n",
    "            nn.Linear(3,4,bias=False),\n",
    "            nn.Sigmoid(),\n",
    "            # nn.ReLU(),\n",
    "            nn.Linear(4,numclasses,bias=False)\n",
    "        )\n",
    "    \n",
    "    def forward(self,x):\n",
    "        return self.nn(x)\n",
    "\n",
    "yessigmoid = WithSigmoid(2,2)\n",
    "yessigmoid"
   ]
  },
  {
   "cell_type": "markdown",
   "metadata": {},
   "source": [
    "shape of all the weight matrix"
   ]
  },
  {
   "cell_type": "code",
   "execution_count": 10,
   "metadata": {},
   "outputs": [
    {
     "name": "stdout",
     "output_type": "stream",
     "text": [
      "Layer 0 | Shape of the weight:  torch.Size([3, 2])\n",
      "Layer 1 | Shape of the weight:  torch.Size([4, 3])\n",
      "Layer 2 | Shape of the weight:  torch.Size([2, 4])\n"
     ]
    }
   ],
   "source": [
    "for i,p in enumerate(yessigmoid.parameters()):\n",
    "    print(f'Layer {i} | Shape of the weight: ',p.shape)"
   ]
  },
  {
   "cell_type": "markdown",
   "metadata": {},
   "source": [
    "### NN WITHOUT activation Layer"
   ]
  },
  {
   "cell_type": "code",
   "execution_count": 11,
   "metadata": {},
   "outputs": [
    {
     "data": {
      "text/plain": [
       "WithoutSigmoid(\n",
       "  (nn): Sequential(\n",
       "    (0): Linear(in_features=2, out_features=3, bias=False)\n",
       "    (1): Linear(in_features=3, out_features=4, bias=False)\n",
       "    (2): Linear(in_features=4, out_features=2, bias=False)\n",
       "  )\n",
       ")"
      ]
     },
     "execution_count": 11,
     "metadata": {},
     "output_type": "execute_result"
    }
   ],
   "source": [
    "class WithoutSigmoid(nn.Module):\n",
    "    def __init__(self,infeatures,numclasses) -> None:\n",
    "        super(WithoutSigmoid,self).__init__()\n",
    "        self.nn = nn.Sequential(\n",
    "            nn.Linear(infeatures,3,bias=False),\n",
    "            nn.Linear(3,4,bias=False),\n",
    "            nn.Linear(4,numclasses,bias=False)\n",
    "        )\n",
    "    def forward(self,x):\n",
    "        return self.nn(x)\n",
    "\n",
    "nosigmoid = WithoutSigmoid(2,2)\n",
    "nosigmoid"
   ]
  },
  {
   "cell_type": "markdown",
   "metadata": {},
   "source": [
    "Shape of all the weight matrices"
   ]
  },
  {
   "cell_type": "code",
   "execution_count": 12,
   "metadata": {},
   "outputs": [
    {
     "name": "stdout",
     "output_type": "stream",
     "text": [
      "Layer 0 | Shape of the weight:  torch.Size([3, 2])\n",
      "Layer 1 | Shape of the weight:  torch.Size([4, 3])\n",
      "Layer 2 | Shape of the weight:  torch.Size([2, 4])\n"
     ]
    }
   ],
   "source": [
    "for i,p in enumerate(nosigmoid.parameters()):\n",
    "    print(f'Layer {i} | Shape of the weight: ',p.shape)"
   ]
  },
  {
   "cell_type": "markdown",
   "metadata": {},
   "source": [
    "## Trying to find out the value of 1st data point manually, just using matrix multiplication"
   ]
  },
  {
   "cell_type": "code",
   "execution_count": 13,
   "metadata": {},
   "outputs": [
    {
     "name": "stdout",
     "output_type": "stream",
     "text": [
      "torch.Size([3])\n"
     ]
    },
    {
     "data": {
      "text/plain": [
       "tensor([-0.1639, -0.0576], grad_fn=<MvBackward0>)"
      ]
     },
     "execution_count": 13,
     "metadata": {},
     "output_type": "execute_result"
    }
   ],
   "source": [
    "o0=torch.matmul(nosigmoid.nn[0].weight,numpyx[0])\n",
    "print(o0.shape)\n",
    "o1=torch.matmul(nosigmoid.nn[1].weight,o0)\n",
    "output=torch.matmul(nosigmoid.nn[2].weight,o1)\n",
    "output\n"
   ]
  },
  {
   "cell_type": "code",
   "execution_count": 14,
   "metadata": {},
   "outputs": [
    {
     "data": {
      "text/plain": [
       "tensor([[-1.6395e-01, -5.7619e-02],\n",
       "        [ 8.9288e-03, -4.6829e-04],\n",
       "        [ 9.9267e-04, -5.2062e-05],\n",
       "        [ 6.6512e-03, -3.4883e-04],\n",
       "        [-1.6385e-01, -5.7625e-02],\n",
       "        [-1.6380e-01, -5.7627e-02],\n",
       "        [-1.5836e-01, -5.7912e-02],\n",
       "        [-1.6222e-01, -5.7710e-02],\n",
       "        [ 1.3945e-03, -7.3139e-05],\n",
       "        [ 3.7666e-03, -1.9755e-04],\n",
       "        [ 2.0918e-03, -1.0971e-04],\n",
       "        [ 3.3256e-03, -1.7442e-04],\n",
       "        [-1.6385e-01, -5.7625e-02],\n",
       "        [-1.6094e-01, -5.7777e-02],\n",
       "        [ 9.8380e-04, -5.1597e-05],\n",
       "        [ 2.0041e-03, -1.0511e-04],\n",
       "        [-1.6121e-01, -5.7763e-02],\n",
       "        [-1.6323e-01, -5.7657e-02],\n",
       "        [ 2.2547e-03, -1.1825e-04],\n",
       "        [ 9.0499e-04, -4.7464e-05]], grad_fn=<MmBackward0>)"
      ]
     },
     "execution_count": 14,
     "metadata": {},
     "output_type": "execute_result"
    }
   ],
   "source": [
    "nosig_out = nosigmoid(numpyx) # WITHOUT ACTIVATION FUNCTION\n",
    "nosig_out"
   ]
  },
  {
   "cell_type": "code",
   "execution_count": 15,
   "metadata": {},
   "outputs": [
    {
     "data": {
      "text/plain": [
       "tensor([[-0.1960,  0.3222],\n",
       "        [-0.1905,  0.3204],\n",
       "        [-0.1889,  0.3212],\n",
       "        [-0.1900,  0.3207],\n",
       "        [-0.1960,  0.3222],\n",
       "        [-0.1960,  0.3222],\n",
       "        [-0.1970,  0.3216],\n",
       "        [-0.1963,  0.3220],\n",
       "        [-0.1890,  0.3212],\n",
       "        [-0.1895,  0.3210],\n",
       "        [-0.1891,  0.3211],\n",
       "        [-0.1894,  0.3210],\n",
       "        [-0.1960,  0.3222],\n",
       "        [-0.1966,  0.3219],\n",
       "        [-0.1889,  0.3212],\n",
       "        [-0.1891,  0.3211],\n",
       "        [-0.1965,  0.3219],\n",
       "        [-0.1961,  0.3221],\n",
       "        [-0.1892,  0.3211],\n",
       "        [-0.1889,  0.3212]], grad_fn=<MmBackward0>)"
      ]
     },
     "execution_count": 15,
     "metadata": {},
     "output_type": "execute_result"
    }
   ],
   "source": [
    "yessig_out = yessigmoid(numpyx) # WITH ACTIVATION FUNCTION\n",
    "yessig_out"
   ]
  },
  {
   "cell_type": "code",
   "execution_count": 16,
   "metadata": {},
   "outputs": [
    {
     "data": {
      "text/plain": [
       "<matplotlib.collections.PathCollection at 0x22098a5fd90>"
      ]
     },
     "execution_count": 16,
     "metadata": {},
     "output_type": "execute_result"
    },
    {
     "data": {
      "image/png": "[encoded data removed]",
      "text/plain": [
       "<Figure size 1296x1296 with 1 Axes>"
      ]
     },
     "metadata": {
      "needs_background": "light"
     },
     "output_type": "display_data"
    }
   ],
   "source": [
    "fig = plt.figure(figsize=(18,18))\n",
    "# plt.scatter(nosig_out[:,0].detach().numpy(),nosig_out[:,1].detach().numpy(),c=trainset.Survived[:20]) #without activations\n",
    "# plt.scatter(numpyx[:,0].numpy(),numpyx[:,1].numpy(),c=trainset.Survived[:20],marker='*') # original\n",
    "plt.scatter(yessig_out[:,0].detach().numpy(),yessig_out[:,1].detach().numpy(),c=trainset.Survived[:20],marker='+') # with activations\n"
   ]
  },
  {
   "cell_type": "code",
   "execution_count": 17,
   "metadata": {},
   "outputs": [],
   "source": [
    "targets = torch.tensor(trainset.Survived,dtype=torch.long)"
   ]
  },
  {
   "cell_type": "code",
   "execution_count": 18,
   "metadata": {},
   "outputs": [],
   "source": [
    "LOSS = nn.CrossEntropyLoss()\n",
    "yesoptim = torch.optim.Adam(yessigmoid.parameters(),lr=0.01)\n",
    "nooptim = torch.optim.Adam(nosigmoid.parameters(),lr=0.01)"
   ]
  },
  {
   "cell_type": "code",
   "execution_count": 19,
   "metadata": {},
   "outputs": [],
   "source": [
    "class Dataset(torch.utils.data.Dataset):\n",
    "    def __init__(self) -> None:\n",
    "        self.data = numpyx\n",
    "        self.targets = targets\n",
    "    \n",
    "    def __len__(self):\n",
    "        return len(self.data)\n",
    "    \n",
    "    def __getitem__(self,index):\n",
    "         return self.data[index],self.targets[index]\n"
   ]
  },
  {
   "cell_type": "code",
   "execution_count": 20,
   "metadata": {},
   "outputs": [],
   "source": [
    "dset = Dataset()\n",
    "trainloader = torch.utils.data.DataLoader(dset,batch_size=16,shuffle=True)"
   ]
  },
  {
   "cell_type": "code",
   "execution_count": 21,
   "metadata": {},
   "outputs": [],
   "source": [
    "from tqdm.notebook import tqdm \n",
    "\n",
    "def training(trainloader,model1,model2,lossfn,optim1,optim2,epoch):\n",
    "    LEN= len(trainloader)\n",
    "    def nosigtrain(trainloader,model1,lossfn,optim1):\n",
    "        totalloss = 0\n",
    "        for x,y in trainloader:\n",
    "            # print(x,y)\n",
    "            optim1.zero_grad()\n",
    "            yhat = model1(x)\n",
    "            # print(yhat)\n",
    "            # break\n",
    "            batchloss = lossfn(yhat,y)\n",
    "            totalloss+=batchloss.item()\n",
    "            batchloss.backward()\n",
    "            optim1.step()\n",
    "        return totalloss/LEN\n",
    "\n",
    "    def sigtrain(trainloader,model2,lossfn,optim2):\n",
    "        totalloss=0\n",
    "        for x,y in trainloader:\n",
    "            optim2.zero_grad()\n",
    "            yhat = model2(x)\n",
    "            batchloss = lossfn(yhat,y)\n",
    "            totalloss+=batchloss.item()\n",
    "            batchloss.backward()\n",
    "            optim2.step()\n",
    "        return totalloss/LEN\n",
    "    \n",
    "    nosigLOSS = list()\n",
    "    sigLOSS = list()\n",
    "    for e in tqdm(range(epoch)):\n",
    "        # print(f'Epoch {e+1}/{epoch}')\n",
    "        nosigLOSS.append(nosigtrain(trainloader,model1,lossfn,optim1))\n",
    "        sigLOSS.append(sigtrain(trainloader,model2,lossfn,optim2))\n",
    "    \n",
    "    plt.plot(range(epoch),sigLOSS,label='WITH activations')\n",
    "    plt.plot(range(epoch),nosigLOSS,color='r',label='WITHOUT activations')\n",
    "    plt.legend()\n",
    "    plt.show()\n",
    "\n",
    "\n",
    "\n"
   ]
  },
  {
   "cell_type": "code",
   "execution_count": 22,
   "metadata": {},
   "outputs": [
    {
     "data": {
      "application/vnd.jupyter.widget-view+json": {
       "model_id": "eccbb6f402e24e83be9b871749b6491c",
       "version_major": 2,
       "version_minor": 0
      },
      "text/plain": [
       "  0%|          | 0/100 [00:00<?, ?it/s]"
      ]
     },
     "metadata": {},
     "output_type": "display_data"
    },
    {
     "data": {
      "image/png": "[encoded data removed]",
      "text/plain": [
       "<Figure size 432x288 with 1 Axes>"
      ]
     },
     "metadata": {
      "needs_background": "light"
     },
     "output_type": "display_data"
    }
   ],
   "source": [
    "training(trainloader,nosigmoid,yessigmoid,LOSS,nooptim,yesoptim,100)"
   ]
  },
  {
   "cell_type": "code",
   "execution_count": 23,
   "metadata": {},
   "outputs": [],
   "source": [
    "a = yessigmoid(numpyx)\n",
    "b = nosigmoid(numpyx)"
   ]
  },
  {
   "cell_type": "code",
   "execution_count": 24,
   "metadata": {},
   "outputs": [
    {
     "data": {
      "text/plain": [
       "<matplotlib.collections.PathCollection at 0x22098bd4fd0>"
      ]
     },
     "execution_count": 24,
     "metadata": {},
     "output_type": "execute_result"
    },
    {
     "data": {
      "image/png": "[encoded data removed]",
      "text/plain": [
       "<Figure size 720x720 with 1 Axes>"
      ]
     },
     "metadata": {
      "needs_background": "light"
     },
     "output_type": "display_data"
    }
   ],
   "source": [
    "fig = plt.figure(figsize=(10,10))\n",
    "# plt.scatter(b[:,0].detach().numpy(),b[:,1].detach().numpy(),c=trainset.Survived[:20],cmap='winter') # without Activations\n",
    "# plt.scatter(a[:,0].detach().numpy(),a[:,1].detach().numpy(),c=trainset.Survived[:20],cmap='cool',marker='+') # WITH ACTIVATIONS\n",
    "plt.scatter(numpyx[:,0].numpy(),numpyx[:,1].numpy(),c=trainset.Survived[:20]) # original"
   ]
  },
  {
   "cell_type": "code",
   "execution_count": 28,
   "metadata": {},
   "outputs": [
    {
     "data": {
      "text/plain": [
       "<matplotlib.collections.PathCollection at 0x22098eb2130>"
      ]
     },
     "execution_count": 28,
     "metadata": {},
     "output_type": "execute_result"
    },
    {
     "data": {
      "image/png": "[encoded data removed]",
      "text/plain": [
       "<Figure size 1440x1440 with 1 Axes>"
      ]
     },
     "metadata": {
      "needs_background": "light"
     },
     "output_type": "display_data"
    }
   ],
   "source": [
    "fig = plt.figure(figsize=(20,20))\n",
    "plt.scatter(a[:,0].detach().numpy(),a[:,1].detach().numpy(),c=trainset.Survived[:20]) # WITH ACTIVATIONS"
   ]
  },
  {
   "cell_type": "code",
   "execution_count": 27,
   "metadata": {},
   "outputs": [
    {
     "data": {
      "text/plain": [
       "<matplotlib.collections.PathCollection at 0x22098e40820>"
      ]
     },
     "execution_count": 27,
     "metadata": {},
     "output_type": "execute_result"
    },
    {
     "data": {
      "image/png": "[encoded data removed]",
      "text/plain": [
       "<Figure size 720x720 with 1 Axes>"
      ]
     },
     "metadata": {
      "needs_background": "light"
     },
     "output_type": "display_data"
    }
   ],
   "source": [
    "fig = plt.figure(figsize=(10,10))\n",
    "plt.scatter(b[:,0].detach().numpy(),b[:,1].detach().numpy(),c=trainset.Survived[:20]) # without Activations"
   ]
  },
  {
   "cell_type": "code",
   "execution_count": null,
   "metadata": {},
   "outputs": [],
   "source": []
  }
 ],
 "metadata": {
  "kernelspec": {
   "display_name": "Python 3.9.5 64-bit",
   "language": "python",
   "name": "python3"
  },
  "language_info": {
   "codemirror_mode": {
    "name": "ipython",
    "version": 3
   },
   "file_extension": ".py",
   "mimetype": "text/x-python",
   "name": "python",
   "nbconvert_exporter": "python",
   "pygments_lexer": "ipython3",
   "version": "3.9.5"
  },
  "orig_nbformat": 4,
  "vscode": {
   "interpreter": {
    "hash": "1c74d99681ad1a2c591eba718ee02a1ecc6e61532130e8f76172a42e8769d33f"
   }
  }
 },
 "nbformat": 4,
 "nbformat_minor": 2
}
