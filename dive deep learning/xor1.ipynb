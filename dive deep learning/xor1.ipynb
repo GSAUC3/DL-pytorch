{
 "cells": [
  {
   "cell_type": "code",
   "execution_count": 16,
   "metadata": {},
   "outputs": [],
   "source": [
    "import torch \n",
    "from torch import nn \n",
    "from matplotlib import pyplot as plt \n",
    "%matplotlib inline\n",
    "import numpy as np \n",
    "from pytorchsummary import summary #pip install pytorchsummary"
   ]
  },
  {
   "cell_type": "code",
   "execution_count": 17,
   "metadata": {},
   "outputs": [
    {
     "data": {
      "text/plain": [
       "(array([[1., 0.],\n",
       "        [1., 1.],\n",
       "        [0., 0.],\n",
       "        [0., 1.]], dtype=float32),\n",
       " (4, 2))"
      ]
     },
     "execution_count": 17,
     "metadata": {},
     "output_type": "execute_result"
    }
   ],
   "source": [
    "datapoints = np.array([[1,0],[1,1],\n",
    "                       [0,0],[0,1]],dtype=np.float32)\n",
    "datapoints,datapoints.shape"
   ]
  },
  {
   "cell_type": "code",
   "execution_count": 18,
   "metadata": {},
   "outputs": [],
   "source": [
    "labels = [1,0,0,1]\n"
   ]
  },
  {
   "cell_type": "code",
   "execution_count": 19,
   "metadata": {},
   "outputs": [
    {
     "data": {
      "text/plain": [
       "<matplotlib.collections.PathCollection at 0x1c66d2fad00>"
      ]
     },
     "execution_count": 19,
     "metadata": {},
     "output_type": "execute_result"
    },
    {
     "data": {
      "image/png": "[encoded data removed]",
      "text/plain": [
       "<Figure size 432x288 with 1 Axes>"
      ]
     },
     "metadata": {
      "needs_background": "light"
     },
     "output_type": "display_data"
    }
   ],
   "source": [
    "plt.scatter(datapoints[:,0],datapoints[:,1],c=labels)"
   ]
  },
  {
   "cell_type": "code",
   "execution_count": 20,
   "metadata": {},
   "outputs": [
    {
     "name": "stdout",
     "output_type": "stream",
     "text": [
      "               Layer\tOutput Shape        \t    Kernal Shape    \t#params             \t#(weights + bias)   \trequires_grad\n",
      "------------------------------------------------------------------------------------------------------------------------------------------------------\n",
      "            Linear-1\t[1, 2]              \t       [2, 2]       \t4                   \t(4+0)               \t   True   \n",
      "            Linear-2\t[1, 1]              \t       [1, 2]       \t2                   \t(2+0)               \t   True   \n",
      "______________________________________________________________________________________________________________________________________________________\n",
      "\n",
      "Total parameters 6\n",
      "Total Non-Trainable parameters 0\n",
      "Total Trainable parameters 6\n"
     ]
    },
    {
     "data": {
      "text/plain": [
       "((6, 6, 0),\n",
       " NoActi(\n",
       "   (nn): Sequential(\n",
       "     (0): Linear(in_features=2, out_features=2, bias=False)\n",
       "     (1): Linear(in_features=2, out_features=1, bias=False)\n",
       "   )\n",
       " ))"
      ]
     },
     "execution_count": 20,
     "metadata": {},
     "output_type": "execute_result"
    }
   ],
   "source": [
    "class NoActi(nn.Module):\n",
    "    def __init__(self,inputs,numclass) -> None:\n",
    "        super(NoActi,self).__init__()\n",
    "        self.nn = nn.Sequential(\n",
    "            nn.Linear(inputs,2,bias=False),\n",
    "            nn.Linear(2,numclass,bias=False),\n",
    "        )\n",
    "    \n",
    "    def forward(self,x):\n",
    "        return self.nn(x)\n",
    "\n",
    "NoactivationModel = NoActi(2,1)\n",
    "summary((2,),NoactivationModel),NoactivationModel"
   ]
  },
  {
   "cell_type": "code",
   "execution_count": 21,
   "metadata": {},
   "outputs": [
    {
     "data": {
      "text/plain": [
       "tensor([[-0.0921],\n",
       "        [-0.0880],\n",
       "        [ 0.0000],\n",
       "        [ 0.0041]], grad_fn=<MmBackward0>)"
      ]
     },
     "execution_count": 21,
     "metadata": {},
     "output_type": "execute_result"
    }
   ],
   "source": [
    "Xs = torch.tensor(datapoints) # changing numpy nd.array to pytorch tensors\n",
    "\n",
    "noacti = NoactivationModel(Xs)\n",
    "noacti"
   ]
  },
  {
   "cell_type": "code",
   "execution_count": 22,
   "metadata": {},
   "outputs": [],
   "source": [
    "def plot(array,labels):\n",
    "    fig = plt.figure(figsize=(6,6))\n",
    "    plt.scatter(array[:,0].detach().numpy(),np.zeros_like(array[:,0].detach().numpy()),c=labels)"
   ]
  },
  {
   "cell_type": "code",
   "execution_count": 23,
   "metadata": {},
   "outputs": [
    {
     "data": {
      "image/png": "[encoded data removed]",
      "text/plain": [
       "<Figure size 432x432 with 1 Axes>"
      ]
     },
     "metadata": {
      "needs_background": "light"
     },
     "output_type": "display_data"
    }
   ],
   "source": [
    "plot(noacti,labels)"
   ]
  },
  {
   "cell_type": "code",
   "execution_count": 24,
   "metadata": {},
   "outputs": [
    {
     "data": {
      "text/plain": [
       "(tensor([[ 0.5395,  0.6076],\n",
       "         [ 0.0206, -0.2339]]),\n",
       " tensor([[-0.1547, -0.4192]]))"
      ]
     },
     "execution_count": 24,
     "metadata": {},
     "output_type": "execute_result"
    }
   ],
   "source": [
    "_w0 = NoactivationModel.nn[0].weight.detach()\n",
    "_w1 = NoactivationModel.nn[1].weight.detach()\n",
    "_w0,_w1"
   ]
  },
  {
   "cell_type": "code",
   "execution_count": 25,
   "metadata": {},
   "outputs": [
    {
     "name": "stdout",
     "output_type": "stream",
     "text": [
      "tensor([[ 0.5395,  1.1471,  0.0000,  0.6076],\n",
      "        [ 0.0206, -0.2133,  0.0000, -0.2339]])\n"
     ]
    },
    {
     "data": {
      "text/plain": [
       "<matplotlib.collections.PathCollection at 0x1c66d3862e0>"
      ]
     },
     "execution_count": 25,
     "metadata": {},
     "output_type": "execute_result"
    },
    {
     "data": {
      "image/png": "[encoded data removed]",
      "text/plain": [
       "<Figure size 432x288 with 1 Axes>"
      ]
     },
     "metadata": {
      "needs_background": "light"
     },
     "output_type": "display_data"
    }
   ],
   "source": [
    "_a1 = torch.matmul(_w0,Xs.T)\n",
    "print(_a1)\n",
    "plt.scatter(_a1[0,:].numpy(),_a1[1,:].numpy(),c=labels)\n",
    "# plt.axline((0, 0), slope=(-0.378/-0.0348), color=\"blue\", linestyle='--')\n",
    "# plt.axline((0, 0), slope=(-0.2901/-0.517), color=\"green\", linestyle='--')\n"
   ]
  },
  {
   "cell_type": "code",
   "execution_count": 26,
   "metadata": {},
   "outputs": [
    {
     "data": {
      "text/plain": [
       "(tensor([[-0.0921, -0.0880,  0.0000,  0.0041]]),\n",
       " torch.Size([1, 4]),\n",
       " <matplotlib.collections.PathCollection at 0x1c66d39feb0>)"
      ]
     },
     "execution_count": 26,
     "metadata": {},
     "output_type": "execute_result"
    },
    {
     "data": {
      "image/png": "[encoded data removed]",
      "text/plain": [
       "<Figure size 432x288 with 1 Axes>"
      ]
     },
     "metadata": {
      "needs_background": "light"
     },
     "output_type": "display_data"
    }
   ],
   "source": [
    "_a2 = torch.matmul(_w1,_a1)\n",
    "_a2,_a2.shape,plt.scatter(_a2[0],[0]*4,c=labels)"
   ]
  }
 ],
 "metadata": {
  "kernelspec": {
   "display_name": "Python 3.9.5 64-bit",
   "language": "python",
   "name": "python3"
  },
  "language_info": {
   "codemirror_mode": {
    "name": "ipython",
    "version": 3
   },
   "file_extension": ".py",
   "mimetype": "text/x-python",
   "name": "python",
   "nbconvert_exporter": "python",
   "pygments_lexer": "ipython3",
   "version": "3.9.5"
  },
  "orig_nbformat": 4,
  "vscode": {
   "interpreter": {
    "hash": "1c74d99681ad1a2c591eba718ee02a1ecc6e61532130e8f76172a42e8769d33f"
   }
  }
 },
 "nbformat": 4,
 "nbformat_minor": 2
}
